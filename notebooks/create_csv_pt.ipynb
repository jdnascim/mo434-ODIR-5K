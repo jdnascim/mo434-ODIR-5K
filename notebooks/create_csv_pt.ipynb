{
 "cells": [
  {
   "cell_type": "code",
   "execution_count": null,
   "metadata": {},
   "outputs": [],
   "source": [
    "import os \n",
    "import glob\n",
    "import pandas as pd"
   ]
  },
  {
   "cell_type": "code",
   "execution_count": null,
   "metadata": {},
   "outputs": [],
   "source": [
    "def create_csv(split='train'):\n",
    "    ROOT_PATH = f\"/odir5k/ocular-dataset/ODIR-5K-Flow/fake-{split}/*\"\n",
    "\n",
    "    g = glob.glob(ROOT_PATH)\n",
    "    records = []\n",
    "\n",
    "    for folder in g:\n",
    "        label = int(folder.split('/')[-1][0])\n",
    "        print(label, folder)\n",
    "        files = os.listdir(folder)\n",
    "        for file in files:\n",
    "            records.append([os.path.join(folder, file), label])\n",
    "    \n",
    "    assert len(records) > 0, \"Array registros está vazio\"\n",
    "    csv_name = f\"pytorch_fake{split}.csv\"\n",
    "    df = pd.DataFrame(records, columns =['path', 'label'])\n",
    "    display(df)\n",
    "    df.to_csv(csv_name, index=False)"
   ]
  },
  {
   "cell_type": "code",
   "execution_count": null,
   "metadata": {},
   "outputs": [],
   "source": [
    "create_csv('train')\n",
    "create_csv('test')"
   ]
  },
  {
   "cell_type": "code",
   "execution_count": null,
   "metadata": {},
   "outputs": [],
   "source": []
  }
 ],
 "metadata": {
  "kernelspec": {
   "display_name": "Python 3",
   "language": "python",
   "name": "python3"
  },
  "language_info": {
   "codemirror_mode": {
    "name": "ipython",
    "version": 3
   },
   "file_extension": ".py",
   "mimetype": "text/x-python",
   "name": "python",
   "nbconvert_exporter": "python",
   "pygments_lexer": "ipython3",
   "version": "3.6.9"
  }
 },
 "nbformat": 4,
 "nbformat_minor": 4
}
