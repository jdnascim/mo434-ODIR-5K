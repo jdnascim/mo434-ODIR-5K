{
 "cells": [
  {
   "cell_type": "code",
   "execution_count": 1,
   "metadata": {},
   "outputs": [],
   "source": [
    "import pandas as pd\n",
    "import csv\n",
    "import numpy as np\n",
    "from os.path import isfile, join\n",
    "from itertools import islice\n",
    "from PIL import Image\n",
    "import torch\n",
    "import torchvision.transforms as transforms\n",
    "import model"
   ]
  },
  {
   "cell_type": "code",
   "execution_count": 2,
   "metadata": {},
   "outputs": [],
   "source": [
    "csvtrain = \"/odir5k/exps/train_gt.csv\"\n",
    "csvval = \"/odir5k/exps/val_gt.csv\"\n",
    "\n",
    "image_base = \"/odir5k/ocular-dataset/ODIR-5K/Training Images/\"\n",
    "\n",
    "fttrain = \"/odir5k/exps/2-final/train_proba.ft\"\n",
    "ftval = \"/odir5k/exps/2-final/val_proba.ft\""
   ]
  },
  {
   "cell_type": "code",
   "execution_count": 3,
   "metadata": {},
   "outputs": [
    {
     "name": "stderr",
     "output_type": "stream",
     "text": [
      "Using cache found in /root/.cache/torch/hub/facebookresearch_swav_master\n"
     ]
    }
   ],
   "source": [
    "model_path = '/odir5k/exps/2-final/swav-r50-epoch=27-odir_score_val=0.837-val_loss=0.929-auc_score_val=0.884.ckpt'\n",
    "cnn = model.SwavFinetuning.load_from_checkpoint(model_path, classes=8)\n",
    "\n",
    "device = 'cuda:1'\n",
    "\n",
    "mean = [0.485, 0.456, 0.406]\n",
    "std = [0.228, 0.224, 0.225]\n",
    "trans = []\n",
    "randomresizedcrop = transforms.RandomResizedCrop(299)\n",
    "trans = transforms.Compose([\n",
    "    randomresizedcrop,\n",
    "    transforms.ToTensor(),\n",
    "    transforms.Normalize(mean=mean, std=std)])"
   ]
  },
  {
   "cell_type": "code",
   "execution_count": 4,
   "metadata": {},
   "outputs": [],
   "source": [
    "cnn = cnn.to(device).eval()"
   ]
  },
  {
   "cell_type": "code",
   "execution_count": null,
   "metadata": {},
   "outputs": [],
   "source": [
    "for csvfile, ftfile in ((csvtrain, fttrain), (csvval, ftval)):\n",
    "    with open(csvfile, \"r\") as fp:\n",
    "        csvreader = csv.reader(fp)\n",
    "        lines = len(list(islice(csvreader,1,None)))\n",
    "\n",
    "        feature_matrix = np.zeros((lines, 16), np.float)\n",
    "        y_true = np.zeros((lines, 8), np.int)\n",
    "        patient_id = np.zeros([lines], np.int)\n",
    "        count = 0\n",
    "\n",
    "        fp.seek(0,0)\n",
    "        \n",
    "        csvreader = csv.reader(fp)\n",
    "        \n",
    "        for l in islice(csvreader,1,None):\n",
    "            for side in (\"left\", \"right\"):\n",
    "                image_path = join(image_base, l[0] + \"_{}.jpg\".format(side))\n",
    "                if isfile(image_path):\n",
    "                    image = Image.open(image_path).convert(\"RGB\")\n",
    "                    torch_img = trans(image).unsqueeze(0).to(device)\n",
    "                    \n",
    "                    with torch.no_grad():\n",
    "                        representations = cnn(torch_img).detach()\n",
    "                    \n",
    "                        probs = torch.softmax(cnn.linear_clf(representations), axis=1)\n",
    "                    \n",
    "                    if side == 'left':\n",
    "                        feature_matrix[count][0:8] = probs.cpu().numpy().flatten()\n",
    "                    if side == 'right':\n",
    "                        feature_matrix[count][8:16] = probs.cpu().numpy().flatten()\n",
    "                \n",
    "            patient_id[count] = int(l[0])\n",
    "            y_true[count] = [int(label) for label in l[1:9]]\n",
    "            count+= 1\n",
    "            \n",
    "        \n",
    "        print(\"Converting DataFrame...\")\n",
    "\n",
    "        df = pd.DataFrame({'id':patient_id,\n",
    "                'eyes_feature':[f for f in feature_matrix],\n",
    "                'y_true':[y for y in y_true]})\n",
    "\n",
    "        print(\"Saving DataFrame\")\n",
    "\n",
    "        df.to_feather(ftfile)\n",
    "        "
   ]
  },
  {
   "cell_type": "code",
   "execution_count": null,
   "metadata": {},
   "outputs": [],
   "source": []
  }
 ],
 "metadata": {
  "kernelspec": {
   "display_name": "Python 3",
   "language": "python",
   "name": "python3"
  },
  "language_info": {
   "codemirror_mode": {
    "name": "ipython",
    "version": 3
   },
   "file_extension": ".py",
   "mimetype": "text/x-python",
   "name": "python",
   "nbconvert_exporter": "python",
   "pygments_lexer": "ipython3",
   "version": "3.6.9"
  }
 },
 "nbformat": 4,
 "nbformat_minor": 4
}
